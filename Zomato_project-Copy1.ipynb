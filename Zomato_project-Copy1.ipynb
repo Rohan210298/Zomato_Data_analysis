{
 "cells": [
  {
   "cell_type": "code",
   "execution_count": 1,
   "id": "d7289790",
   "metadata": {},
   "outputs": [],
   "source": [
    "import pandas as pd\n",
    "import numpy as np\n",
    "import matplotlib.pyplot as plt\n",
    "import seaborn as sns"
   ]
  },
  {
   "cell_type": "code",
   "execution_count": 2,
   "id": "2c32d10e",
   "metadata": {},
   "outputs": [],
   "source": [
    "df = pd.read_csv('resturant.csv')"
   ]
  },
  {
   "cell_type": "code",
   "execution_count": 3,
   "id": "b78642e0",
   "metadata": {},
   "outputs": [
    {
     "data": {
      "text/html": [
       "<div>\n",
       "<style scoped>\n",
       "    .dataframe tbody tr th:only-of-type {\n",
       "        vertical-align: middle;\n",
       "    }\n",
       "\n",
       "    .dataframe tbody tr th {\n",
       "        vertical-align: top;\n",
       "    }\n",
       "\n",
       "    .dataframe thead th {\n",
       "        text-align: right;\n",
       "    }\n",
       "</style>\n",
       "<table border=\"1\" class=\"dataframe\">\n",
       "  <thead>\n",
       "    <tr style=\"text-align: right;\">\n",
       "      <th></th>\n",
       "      <th>url</th>\n",
       "      <th>address</th>\n",
       "      <th>name</th>\n",
       "      <th>online_order</th>\n",
       "      <th>book_table</th>\n",
       "      <th>rate</th>\n",
       "      <th>votes</th>\n",
       "      <th>phone</th>\n",
       "      <th>location</th>\n",
       "      <th>rest_type</th>\n",
       "      <th>dish_liked</th>\n",
       "      <th>cuisines</th>\n",
       "      <th>approx_cost(for two people)</th>\n",
       "      <th>reviews_list</th>\n",
       "      <th>menu_item</th>\n",
       "      <th>listed_in(type)</th>\n",
       "      <th>listed_in(city)</th>\n",
       "    </tr>\n",
       "  </thead>\n",
       "  <tbody>\n",
       "    <tr>\n",
       "      <th>0</th>\n",
       "      <td>https://www.zomato.com/bangalore/jalsa-banasha...</td>\n",
       "      <td>942, 21st Main Road, 2nd Stage, Banashankari, ...</td>\n",
       "      <td>Jalsa</td>\n",
       "      <td>Yes</td>\n",
       "      <td>Yes</td>\n",
       "      <td>4.1/5</td>\n",
       "      <td>775</td>\n",
       "      <td>080 42297555\\n+91 9743772233</td>\n",
       "      <td>Banashankari</td>\n",
       "      <td>Casual Dining</td>\n",
       "      <td>Pasta, Lunch Buffet, Masala Papad, Paneer Laja...</td>\n",
       "      <td>North Indian, Mughlai, Chinese</td>\n",
       "      <td>800.0</td>\n",
       "      <td>[('Rated 4.0', 'RATED\\n  A beautiful place to ...</td>\n",
       "      <td>[]</td>\n",
       "      <td>Buffet</td>\n",
       "      <td>Banashankari</td>\n",
       "    </tr>\n",
       "    <tr>\n",
       "      <th>1</th>\n",
       "      <td>https://www.zomato.com/bangalore/spice-elephan...</td>\n",
       "      <td>2nd Floor, 80 Feet Road, Near Big Bazaar, 6th ...</td>\n",
       "      <td>Spice Elephant</td>\n",
       "      <td>Yes</td>\n",
       "      <td>No</td>\n",
       "      <td>4.1/5</td>\n",
       "      <td>787</td>\n",
       "      <td>080 41714161</td>\n",
       "      <td>Banashankari</td>\n",
       "      <td>Casual Dining</td>\n",
       "      <td>Momos, Lunch Buffet, Chocolate Nirvana, Thai G...</td>\n",
       "      <td>Chinese, North Indian, Thai</td>\n",
       "      <td>800.0</td>\n",
       "      <td>[('Rated 4.0', 'RATED\\n  Had been here for din...</td>\n",
       "      <td>[]</td>\n",
       "      <td>Buffet</td>\n",
       "      <td>Banashankari</td>\n",
       "    </tr>\n",
       "    <tr>\n",
       "      <th>2</th>\n",
       "      <td>https://www.zomato.com/SanchurroBangalore?cont...</td>\n",
       "      <td>1112, Next to KIMS Medical College, 17th Cross...</td>\n",
       "      <td>San Churro Cafe</td>\n",
       "      <td>Yes</td>\n",
       "      <td>No</td>\n",
       "      <td>3.8/5</td>\n",
       "      <td>918</td>\n",
       "      <td>+91 9663487993</td>\n",
       "      <td>Banashankari</td>\n",
       "      <td>Cafe, Casual Dining</td>\n",
       "      <td>Churros, Cannelloni, Minestrone Soup, Hot Choc...</td>\n",
       "      <td>Cafe, Mexican, Italian</td>\n",
       "      <td>800.0</td>\n",
       "      <td>[('Rated 3.0', \"RATED\\n  Ambience is not that ...</td>\n",
       "      <td>[]</td>\n",
       "      <td>Buffet</td>\n",
       "      <td>Banashankari</td>\n",
       "    </tr>\n",
       "    <tr>\n",
       "      <th>3</th>\n",
       "      <td>https://www.zomato.com/bangalore/addhuri-udupi...</td>\n",
       "      <td>1st Floor, Annakuteera, 3rd Stage, Banashankar...</td>\n",
       "      <td>Addhuri Udupi Bhojana</td>\n",
       "      <td>No</td>\n",
       "      <td>No</td>\n",
       "      <td>3.7/5</td>\n",
       "      <td>88</td>\n",
       "      <td>+91 9620009302</td>\n",
       "      <td>Banashankari</td>\n",
       "      <td>Quick Bites</td>\n",
       "      <td>Masala Dosa</td>\n",
       "      <td>South Indian, North Indian</td>\n",
       "      <td>300.0</td>\n",
       "      <td>[('Rated 4.0', \"RATED\\n  Great food and proper...</td>\n",
       "      <td>[]</td>\n",
       "      <td>Buffet</td>\n",
       "      <td>Banashankari</td>\n",
       "    </tr>\n",
       "    <tr>\n",
       "      <th>4</th>\n",
       "      <td>https://www.zomato.com/bangalore/grand-village...</td>\n",
       "      <td>10, 3rd Floor, Lakshmi Associates, Gandhi Baza...</td>\n",
       "      <td>Grand Village</td>\n",
       "      <td>No</td>\n",
       "      <td>No</td>\n",
       "      <td>3.8/5</td>\n",
       "      <td>166</td>\n",
       "      <td>+91 8026612447\\n+91 9901210005</td>\n",
       "      <td>Basavanagudi</td>\n",
       "      <td>Casual Dining</td>\n",
       "      <td>Panipuri, Gol Gappe</td>\n",
       "      <td>North Indian, Rajasthani</td>\n",
       "      <td>600.0</td>\n",
       "      <td>[('Rated 4.0', 'RATED\\n  Very good restaurant ...</td>\n",
       "      <td>[]</td>\n",
       "      <td>Buffet</td>\n",
       "      <td>Banashankari</td>\n",
       "    </tr>\n",
       "  </tbody>\n",
       "</table>\n",
       "</div>"
      ],
      "text/plain": [
       "                                                 url  \\\n",
       "0  https://www.zomato.com/bangalore/jalsa-banasha...   \n",
       "1  https://www.zomato.com/bangalore/spice-elephan...   \n",
       "2  https://www.zomato.com/SanchurroBangalore?cont...   \n",
       "3  https://www.zomato.com/bangalore/addhuri-udupi...   \n",
       "4  https://www.zomato.com/bangalore/grand-village...   \n",
       "\n",
       "                                             address                   name  \\\n",
       "0  942, 21st Main Road, 2nd Stage, Banashankari, ...                  Jalsa   \n",
       "1  2nd Floor, 80 Feet Road, Near Big Bazaar, 6th ...         Spice Elephant   \n",
       "2  1112, Next to KIMS Medical College, 17th Cross...        San Churro Cafe   \n",
       "3  1st Floor, Annakuteera, 3rd Stage, Banashankar...  Addhuri Udupi Bhojana   \n",
       "4  10, 3rd Floor, Lakshmi Associates, Gandhi Baza...          Grand Village   \n",
       "\n",
       "  online_order book_table   rate  votes                           phone  \\\n",
       "0          Yes        Yes  4.1/5    775    080 42297555\\n+91 9743772233   \n",
       "1          Yes         No  4.1/5    787                    080 41714161   \n",
       "2          Yes         No  3.8/5    918                  +91 9663487993   \n",
       "3           No         No  3.7/5     88                  +91 9620009302   \n",
       "4           No         No  3.8/5    166  +91 8026612447\\n+91 9901210005   \n",
       "\n",
       "       location            rest_type  \\\n",
       "0  Banashankari        Casual Dining   \n",
       "1  Banashankari        Casual Dining   \n",
       "2  Banashankari  Cafe, Casual Dining   \n",
       "3  Banashankari          Quick Bites   \n",
       "4  Basavanagudi        Casual Dining   \n",
       "\n",
       "                                          dish_liked  \\\n",
       "0  Pasta, Lunch Buffet, Masala Papad, Paneer Laja...   \n",
       "1  Momos, Lunch Buffet, Chocolate Nirvana, Thai G...   \n",
       "2  Churros, Cannelloni, Minestrone Soup, Hot Choc...   \n",
       "3                                        Masala Dosa   \n",
       "4                                Panipuri, Gol Gappe   \n",
       "\n",
       "                         cuisines  approx_cost(for two people)  \\\n",
       "0  North Indian, Mughlai, Chinese                        800.0   \n",
       "1     Chinese, North Indian, Thai                        800.0   \n",
       "2          Cafe, Mexican, Italian                        800.0   \n",
       "3      South Indian, North Indian                        300.0   \n",
       "4        North Indian, Rajasthani                        600.0   \n",
       "\n",
       "                                        reviews_list menu_item  \\\n",
       "0  [('Rated 4.0', 'RATED\\n  A beautiful place to ...        []   \n",
       "1  [('Rated 4.0', 'RATED\\n  Had been here for din...        []   \n",
       "2  [('Rated 3.0', \"RATED\\n  Ambience is not that ...        []   \n",
       "3  [('Rated 4.0', \"RATED\\n  Great food and proper...        []   \n",
       "4  [('Rated 4.0', 'RATED\\n  Very good restaurant ...        []   \n",
       "\n",
       "  listed_in(type) listed_in(city)  \n",
       "0          Buffet    Banashankari  \n",
       "1          Buffet    Banashankari  \n",
       "2          Buffet    Banashankari  \n",
       "3          Buffet    Banashankari  \n",
       "4          Buffet    Banashankari  "
      ]
     },
     "execution_count": 3,
     "metadata": {},
     "output_type": "execute_result"
    }
   ],
   "source": [
    "df.head()"
   ]
  },
  {
   "cell_type": "code",
   "execution_count": 5,
   "id": "e3afb9b9",
   "metadata": {},
   "outputs": [
    {
     "name": "stdout",
     "output_type": "stream",
     "text": [
      "<class 'pandas.core.frame.DataFrame'>\n",
      "RangeIndex: 51717 entries, 0 to 51716\n",
      "Data columns (total 17 columns):\n",
      " #   Column                       Non-Null Count  Dtype  \n",
      "---  ------                       --------------  -----  \n",
      " 0   url                          51717 non-null  object \n",
      " 1   address                      51717 non-null  object \n",
      " 2   name                         51717 non-null  object \n",
      " 3   online_order                 51717 non-null  object \n",
      " 4   book_table                   51717 non-null  object \n",
      " 5   rate                         43942 non-null  object \n",
      " 6   votes                        51717 non-null  int64  \n",
      " 7   phone                        50509 non-null  object \n",
      " 8   location                     51696 non-null  object \n",
      " 9   rest_type                    51490 non-null  object \n",
      " 10  dish_liked                   23639 non-null  object \n",
      " 11  cuisines                     51672 non-null  object \n",
      " 12  approx_cost(for two people)  51371 non-null  float64\n",
      " 13  reviews_list                 51705 non-null  object \n",
      " 14  menu_item                    51717 non-null  object \n",
      " 15  listed_in(type)              51717 non-null  object \n",
      " 16  listed_in(city)              51717 non-null  object \n",
      "dtypes: float64(1), int64(1), object(15)\n",
      "memory usage: 6.7+ MB\n"
     ]
    }
   ],
   "source": [
    "df.info()"
   ]
  },
  {
   "cell_type": "code",
   "execution_count": 6,
   "id": "2574fe30",
   "metadata": {},
   "outputs": [
    {
     "data": {
      "text/plain": [
       "Index(['url', 'address', 'name', 'online_order', 'book_table', 'rate', 'votes',\n",
       "       'phone', 'location', 'rest_type', 'dish_liked', 'cuisines',\n",
       "       'approx_cost(for two people)', 'reviews_list', 'menu_item',\n",
       "       'listed_in(type)', 'listed_in(city)'],\n",
       "      dtype='object')"
      ]
     },
     "execution_count": 6,
     "metadata": {},
     "output_type": "execute_result"
    }
   ],
   "source": [
    "df.columns"
   ]
  },
  {
   "cell_type": "code",
   "execution_count": 8,
   "id": "d9fff73c",
   "metadata": {},
   "outputs": [],
   "source": [
    "new_df = df.drop(['url','phone','reviews_list','menu_item','listed_in(city)',\"address\"],axis=1)"
   ]
  },
  {
   "cell_type": "code",
   "execution_count": 9,
   "id": "ebd60f5c",
   "metadata": {},
   "outputs": [
    {
     "data": {
      "text/plain": [
       "0                                                 Jalsa\n",
       "1                                        Spice Elephant\n",
       "2                                       San Churro Cafe\n",
       "3                                 Addhuri Udupi Bhojana\n",
       "4                                         Grand Village\n",
       "5                                       Timepass Dinner\n",
       "6       Rosewood International Hotel - Bar & Restaurant\n",
       "7                                                Onesta\n",
       "8                                        Penthouse Cafe\n",
       "9                                             Smacznego\n",
       "10    CafÃÂÃÂÃÂÃÂÃÂÃÂÃÂÃÂ© Down The A...\n",
       "11                                         Cafe Shuffle\n",
       "12                                     The Coffee Shack\n",
       "13                                           Caf-Eleven\n",
       "14                                      San Churro Cafe\n",
       "15                                        Cafe Vivacity\n",
       "16                                         Catch-up-ino\n",
       "17                                     Kirthi's Biryani\n",
       "18                                             T3H Cafe\n",
       "19                        360 Atoms Restaurant And Cafe\n",
       "20                                     The Vintage Cafe\n",
       "21                                         Woodee Pizza\n",
       "22                                      Cafe Coffee Day\n",
       "23                                         My Tea House\n",
       "24                                        Hide Out Cafe\n",
       "25                                            CAFE NOVA\n",
       "26                                         Coffee Tindi\n",
       "27                                       Sea Green Cafe\n",
       "28                                                Cuppa\n",
       "29                                     Srinathji's Cafe\n",
       "30                                            Redberrys\n",
       "31                                           Foodiction\n",
       "32                                          Sweet Truth\n",
       "33                                      Ovenstory Pizza\n",
       "34                                               Faasos\n",
       "35                                      Behrouz Biryani\n",
       "36                                       Fast And Fresh\n",
       "37                                      Szechuan Dragon\n",
       "38                                    Empire Restaurant\n",
       "39                         Maruthi Davangere Benne Dosa\n",
       "40                                            Chaatimes\n",
       "41                                         Havyaka Mess\n",
       "42                                           McDonald's\n",
       "43                                       Domino's Pizza\n",
       "44                                               Onesta\n",
       "45                                             Hotboxit\n",
       "46                                       Kitchen Garden\n",
       "47                                               Recipe\n",
       "48                                        Beijing Bites\n",
       "49                                          Tasty Bytes\n",
       "Name: name, dtype: object"
      ]
     },
     "execution_count": 9,
     "metadata": {},
     "output_type": "execute_result"
    }
   ],
   "source": [
    "new_df['name'][0:50]"
   ]
  },
  {
   "cell_type": "code",
   "execution_count": 10,
   "id": "f0f91e65",
   "metadata": {},
   "outputs": [],
   "source": [
    "import re"
   ]
  },
  {
   "cell_type": "code",
   "execution_count": 11,
   "id": "d3d0a881",
   "metadata": {},
   "outputs": [],
   "source": [
    "def clean_name(names):\n",
    "    if isinstance(names,str):\n",
    "        if(re.findall(r'[a-zA-Z0-9 ]',names)): #checking for the pattern and returning data in form of list\n",
    "            list_name = (re.findall(r'[a-zA-Z0-9 ]',names))\n",
    "            str_name = \"\".join(list_name)\n",
    "            return str_name\n",
    "        else:\n",
    "            return names"
   ]
  },
  {
   "cell_type": "code",
   "execution_count": 12,
   "id": "30c8ba10",
   "metadata": {},
   "outputs": [],
   "source": [
    "new_df['name'] = new_df['name'].apply(clean_name)"
   ]
  },
  {
   "cell_type": "code",
   "execution_count": 13,
   "id": "88bba479",
   "metadata": {},
   "outputs": [
    {
     "data": {
      "text/html": [
       "<div>\n",
       "<style scoped>\n",
       "    .dataframe tbody tr th:only-of-type {\n",
       "        vertical-align: middle;\n",
       "    }\n",
       "\n",
       "    .dataframe tbody tr th {\n",
       "        vertical-align: top;\n",
       "    }\n",
       "\n",
       "    .dataframe thead th {\n",
       "        text-align: right;\n",
       "    }\n",
       "</style>\n",
       "<table border=\"1\" class=\"dataframe\">\n",
       "  <thead>\n",
       "    <tr style=\"text-align: right;\">\n",
       "      <th></th>\n",
       "      <th>name</th>\n",
       "      <th>online_order</th>\n",
       "      <th>book_table</th>\n",
       "      <th>rate</th>\n",
       "      <th>votes</th>\n",
       "      <th>location</th>\n",
       "      <th>rest_type</th>\n",
       "      <th>dish_liked</th>\n",
       "      <th>cuisines</th>\n",
       "      <th>approx_cost(for two people)</th>\n",
       "      <th>listed_in(type)</th>\n",
       "    </tr>\n",
       "  </thead>\n",
       "  <tbody>\n",
       "    <tr>\n",
       "      <th>0</th>\n",
       "      <td>Jalsa</td>\n",
       "      <td>Yes</td>\n",
       "      <td>Yes</td>\n",
       "      <td>4.1/5</td>\n",
       "      <td>775</td>\n",
       "      <td>Banashankari</td>\n",
       "      <td>Casual Dining</td>\n",
       "      <td>Pasta, Lunch Buffet, Masala Papad, Paneer Laja...</td>\n",
       "      <td>North Indian, Mughlai, Chinese</td>\n",
       "      <td>800.0</td>\n",
       "      <td>Buffet</td>\n",
       "    </tr>\n",
       "    <tr>\n",
       "      <th>1</th>\n",
       "      <td>Spice Elephant</td>\n",
       "      <td>Yes</td>\n",
       "      <td>No</td>\n",
       "      <td>4.1/5</td>\n",
       "      <td>787</td>\n",
       "      <td>Banashankari</td>\n",
       "      <td>Casual Dining</td>\n",
       "      <td>Momos, Lunch Buffet, Chocolate Nirvana, Thai G...</td>\n",
       "      <td>Chinese, North Indian, Thai</td>\n",
       "      <td>800.0</td>\n",
       "      <td>Buffet</td>\n",
       "    </tr>\n",
       "    <tr>\n",
       "      <th>2</th>\n",
       "      <td>San Churro Cafe</td>\n",
       "      <td>Yes</td>\n",
       "      <td>No</td>\n",
       "      <td>3.8/5</td>\n",
       "      <td>918</td>\n",
       "      <td>Banashankari</td>\n",
       "      <td>Cafe, Casual Dining</td>\n",
       "      <td>Churros, Cannelloni, Minestrone Soup, Hot Choc...</td>\n",
       "      <td>Cafe, Mexican, Italian</td>\n",
       "      <td>800.0</td>\n",
       "      <td>Buffet</td>\n",
       "    </tr>\n",
       "    <tr>\n",
       "      <th>3</th>\n",
       "      <td>Addhuri Udupi Bhojana</td>\n",
       "      <td>No</td>\n",
       "      <td>No</td>\n",
       "      <td>3.7/5</td>\n",
       "      <td>88</td>\n",
       "      <td>Banashankari</td>\n",
       "      <td>Quick Bites</td>\n",
       "      <td>Masala Dosa</td>\n",
       "      <td>South Indian, North Indian</td>\n",
       "      <td>300.0</td>\n",
       "      <td>Buffet</td>\n",
       "    </tr>\n",
       "    <tr>\n",
       "      <th>4</th>\n",
       "      <td>Grand Village</td>\n",
       "      <td>No</td>\n",
       "      <td>No</td>\n",
       "      <td>3.8/5</td>\n",
       "      <td>166</td>\n",
       "      <td>Basavanagudi</td>\n",
       "      <td>Casual Dining</td>\n",
       "      <td>Panipuri, Gol Gappe</td>\n",
       "      <td>North Indian, Rajasthani</td>\n",
       "      <td>600.0</td>\n",
       "      <td>Buffet</td>\n",
       "    </tr>\n",
       "    <tr>\n",
       "      <th>...</th>\n",
       "      <td>...</td>\n",
       "      <td>...</td>\n",
       "      <td>...</td>\n",
       "      <td>...</td>\n",
       "      <td>...</td>\n",
       "      <td>...</td>\n",
       "      <td>...</td>\n",
       "      <td>...</td>\n",
       "      <td>...</td>\n",
       "      <td>...</td>\n",
       "      <td>...</td>\n",
       "    </tr>\n",
       "    <tr>\n",
       "      <th>51712</th>\n",
       "      <td>Best Brews  Four Points by Sheraton Bengaluru</td>\n",
       "      <td>No</td>\n",
       "      <td>No</td>\n",
       "      <td>3.6 /5</td>\n",
       "      <td>27</td>\n",
       "      <td>Whitefield</td>\n",
       "      <td>Bar</td>\n",
       "      <td>NaN</td>\n",
       "      <td>Continental</td>\n",
       "      <td>1500.0</td>\n",
       "      <td>Pubs and bars</td>\n",
       "    </tr>\n",
       "    <tr>\n",
       "      <th>51713</th>\n",
       "      <td>Vinod Bar And Restaurant</td>\n",
       "      <td>No</td>\n",
       "      <td>No</td>\n",
       "      <td>NaN</td>\n",
       "      <td>0</td>\n",
       "      <td>Whitefield</td>\n",
       "      <td>Bar</td>\n",
       "      <td>NaN</td>\n",
       "      <td>Finger Food</td>\n",
       "      <td>600.0</td>\n",
       "      <td>Pubs and bars</td>\n",
       "    </tr>\n",
       "    <tr>\n",
       "      <th>51714</th>\n",
       "      <td>Plunge  Sheraton Grand Bengaluru Whitefield Ho...</td>\n",
       "      <td>No</td>\n",
       "      <td>No</td>\n",
       "      <td>NaN</td>\n",
       "      <td>0</td>\n",
       "      <td>Whitefield</td>\n",
       "      <td>Bar</td>\n",
       "      <td>NaN</td>\n",
       "      <td>Finger Food</td>\n",
       "      <td>2000.0</td>\n",
       "      <td>Pubs and bars</td>\n",
       "    </tr>\n",
       "    <tr>\n",
       "      <th>51715</th>\n",
       "      <td>Chime  Sheraton Grand Bengaluru Whitefield Hotel</td>\n",
       "      <td>No</td>\n",
       "      <td>Yes</td>\n",
       "      <td>4.3 /5</td>\n",
       "      <td>236</td>\n",
       "      <td>ITPL Main Road, Whitefield</td>\n",
       "      <td>Bar</td>\n",
       "      <td>Cocktails, Pizza, Buttermilk</td>\n",
       "      <td>Finger Food</td>\n",
       "      <td>2500.0</td>\n",
       "      <td>Pubs and bars</td>\n",
       "    </tr>\n",
       "    <tr>\n",
       "      <th>51716</th>\n",
       "      <td>The Nest  The Den Bengaluru</td>\n",
       "      <td>No</td>\n",
       "      <td>No</td>\n",
       "      <td>3.4 /5</td>\n",
       "      <td>13</td>\n",
       "      <td>ITPL Main Road, Whitefield</td>\n",
       "      <td>Bar, Casual Dining</td>\n",
       "      <td>NaN</td>\n",
       "      <td>Finger Food, North Indian, Continental</td>\n",
       "      <td>1500.0</td>\n",
       "      <td>Pubs and bars</td>\n",
       "    </tr>\n",
       "  </tbody>\n",
       "</table>\n",
       "<p>51717 rows × 11 columns</p>\n",
       "</div>"
      ],
      "text/plain": [
       "                                                    name online_order  \\\n",
       "0                                                  Jalsa          Yes   \n",
       "1                                         Spice Elephant          Yes   \n",
       "2                                        San Churro Cafe          Yes   \n",
       "3                                  Addhuri Udupi Bhojana           No   \n",
       "4                                          Grand Village           No   \n",
       "...                                                  ...          ...   \n",
       "51712      Best Brews  Four Points by Sheraton Bengaluru           No   \n",
       "51713                           Vinod Bar And Restaurant           No   \n",
       "51714  Plunge  Sheraton Grand Bengaluru Whitefield Ho...           No   \n",
       "51715  Chime  Sheraton Grand Bengaluru Whitefield Hotel            No   \n",
       "51716                        The Nest  The Den Bengaluru           No   \n",
       "\n",
       "      book_table    rate  votes                    location  \\\n",
       "0            Yes   4.1/5    775                Banashankari   \n",
       "1             No   4.1/5    787                Banashankari   \n",
       "2             No   3.8/5    918                Banashankari   \n",
       "3             No   3.7/5     88                Banashankari   \n",
       "4             No   3.8/5    166                Basavanagudi   \n",
       "...          ...     ...    ...                         ...   \n",
       "51712         No  3.6 /5     27                  Whitefield   \n",
       "51713         No     NaN      0                  Whitefield   \n",
       "51714         No     NaN      0                  Whitefield   \n",
       "51715        Yes  4.3 /5    236  ITPL Main Road, Whitefield   \n",
       "51716         No  3.4 /5     13  ITPL Main Road, Whitefield   \n",
       "\n",
       "                 rest_type                                         dish_liked  \\\n",
       "0            Casual Dining  Pasta, Lunch Buffet, Masala Papad, Paneer Laja...   \n",
       "1            Casual Dining  Momos, Lunch Buffet, Chocolate Nirvana, Thai G...   \n",
       "2      Cafe, Casual Dining  Churros, Cannelloni, Minestrone Soup, Hot Choc...   \n",
       "3              Quick Bites                                        Masala Dosa   \n",
       "4            Casual Dining                                Panipuri, Gol Gappe   \n",
       "...                    ...                                                ...   \n",
       "51712                  Bar                                                NaN   \n",
       "51713                  Bar                                                NaN   \n",
       "51714                  Bar                                                NaN   \n",
       "51715                  Bar                       Cocktails, Pizza, Buttermilk   \n",
       "51716   Bar, Casual Dining                                                NaN   \n",
       "\n",
       "                                     cuisines  approx_cost(for two people)  \\\n",
       "0              North Indian, Mughlai, Chinese                        800.0   \n",
       "1                 Chinese, North Indian, Thai                        800.0   \n",
       "2                      Cafe, Mexican, Italian                        800.0   \n",
       "3                  South Indian, North Indian                        300.0   \n",
       "4                    North Indian, Rajasthani                        600.0   \n",
       "...                                       ...                          ...   \n",
       "51712                             Continental                       1500.0   \n",
       "51713                             Finger Food                        600.0   \n",
       "51714                             Finger Food                       2000.0   \n",
       "51715                             Finger Food                       2500.0   \n",
       "51716  Finger Food, North Indian, Continental                       1500.0   \n",
       "\n",
       "      listed_in(type)  \n",
       "0              Buffet  \n",
       "1              Buffet  \n",
       "2              Buffet  \n",
       "3              Buffet  \n",
       "4              Buffet  \n",
       "...               ...  \n",
       "51712   Pubs and bars  \n",
       "51713   Pubs and bars  \n",
       "51714   Pubs and bars  \n",
       "51715   Pubs and bars  \n",
       "51716   Pubs and bars  \n",
       "\n",
       "[51717 rows x 11 columns]"
      ]
     },
     "execution_count": 13,
     "metadata": {},
     "output_type": "execute_result"
    }
   ],
   "source": [
    "new_df"
   ]
  },
  {
   "cell_type": "code",
   "execution_count": 14,
   "id": "494f8593",
   "metadata": {},
   "outputs": [
    {
     "data": {
      "text/plain": [
       "array(['Yes', 'No'], dtype=object)"
      ]
     },
     "execution_count": 14,
     "metadata": {},
     "output_type": "execute_result"
    }
   ],
   "source": [
    "new_df['online_order'].unique()"
   ]
  },
  {
   "cell_type": "code",
   "execution_count": 15,
   "id": "88ff2284",
   "metadata": {},
   "outputs": [
    {
     "data": {
      "text/plain": [
       "online_order\n",
       "Yes    30444\n",
       "No     21273\n",
       "Name: count, dtype: int64"
      ]
     },
     "execution_count": 15,
     "metadata": {},
     "output_type": "execute_result"
    }
   ],
   "source": [
    "new_df['online_order'].value_counts()"
   ]
  },
  {
   "cell_type": "markdown",
   "id": "8f29cd80",
   "metadata": {},
   "source": [
    "**out of 51716 records there are 30,444 resturants that is providing online orders, while the rest 21273 are still not providing online order**"
   ]
  },
  {
   "cell_type": "code",
   "execution_count": 20,
   "id": "a856d9d7",
   "metadata": {},
   "outputs": [
    {
     "data": {
      "image/png": "[encoded data removed]",
      "text/plain": [
       "<Figure size 640x480 with 1 Axes>"
      ]
     },
     "metadata": {},
     "output_type": "display_data"
    }
   ],
   "source": [
    "ln = [\"yes\",\"no\"]\n",
    "new_df['online_order'].value_counts().plot.pie(autopct='%1.2f%%',labels=ln,shadow=True)\n",
    "plt.show()"
   ]
  },
  {
   "cell_type": "code",
   "execution_count": 21,
   "id": "6f5f1aca",
   "metadata": {},
   "outputs": [
    {
     "data": {
      "text/plain": [
       "book_table\n",
       "No     45268\n",
       "Yes     6449\n",
       "Name: count, dtype: int64"
      ]
     },
     "execution_count": 21,
     "metadata": {},
     "output_type": "execute_result"
    }
   ],
   "source": [
    "new_df['book_table'].value_counts()"
   ]
  },
  {
   "cell_type": "code",
   "execution_count": 22,
   "id": "4a3c8571",
   "metadata": {},
   "outputs": [
    {
     "data": {
      "image/png": "[encoded data removed]",
      "text/plain": [
       "<Figure size 640x480 with 1 Axes>"
      ]
     },
     "metadata": {},
     "output_type": "display_data"
    }
   ],
   "source": [
    "ln = [\"yes\",\"no\"]\n",
    "new_df['book_table'].value_counts().plot.pie(autopct='%1.2f%%',labels=ln,shadow=True)\n",
    "plt.show()"
   ]
  },
  {
   "cell_type": "markdown",
   "id": "e001dc5c",
   "metadata": {},
   "source": [
    "**out of 51716 records there are 452684 resturants that is providing Resevation, while the rest 6449 don,t**"
   ]
  },
  {
   "cell_type": "code",
   "execution_count": 23,
   "id": "6b056a51",
   "metadata": {},
   "outputs": [],
   "source": [
    "def resturant_rate(rates):\n",
    "    if(rates==\"NEW\" or rates==\"-\"):\n",
    "        return np.nan\n",
    "    else:\n",
    "        clean_rate = float(str(rates).split(\"/\")[0])\n",
    "        return clean_rate"
   ]
  },
  {
   "cell_type": "code",
   "execution_count": 24,
   "id": "c34ad051",
   "metadata": {},
   "outputs": [],
   "source": [
    "new_df['rate'] = new_df['rate'].apply(resturant_rate)"
   ]
  },
  {
   "cell_type": "code",
   "execution_count": 41,
   "id": "5744b9a9",
   "metadata": {},
   "outputs": [],
   "source": [
    "top5 = new_df.groupby('location').agg({'rate':'max'}).head(5)\n"
   ]
  },
  {
   "cell_type": "code",
   "execution_count": 42,
   "id": "780c9cff",
   "metadata": {},
   "outputs": [
    {
     "data": {
      "text/html": [
       "<div>\n",
       "<style scoped>\n",
       "    .dataframe tbody tr th:only-of-type {\n",
       "        vertical-align: middle;\n",
       "    }\n",
       "\n",
       "    .dataframe tbody tr th {\n",
       "        vertical-align: top;\n",
       "    }\n",
       "\n",
       "    .dataframe thead th {\n",
       "        text-align: right;\n",
       "    }\n",
       "</style>\n",
       "<table border=\"1\" class=\"dataframe\">\n",
       "  <thead>\n",
       "    <tr style=\"text-align: right;\">\n",
       "      <th></th>\n",
       "      <th>rate</th>\n",
       "    </tr>\n",
       "    <tr>\n",
       "      <th>location</th>\n",
       "      <th></th>\n",
       "    </tr>\n",
       "  </thead>\n",
       "  <tbody>\n",
       "    <tr>\n",
       "      <th>BTM</th>\n",
       "      <td>4.9</td>\n",
       "    </tr>\n",
       "    <tr>\n",
       "      <th>Banashankari</th>\n",
       "      <td>4.7</td>\n",
       "    </tr>\n",
       "    <tr>\n",
       "      <th>Banaswadi</th>\n",
       "      <td>4.4</td>\n",
       "    </tr>\n",
       "    <tr>\n",
       "      <th>Bannerghatta Road</th>\n",
       "      <td>4.6</td>\n",
       "    </tr>\n",
       "    <tr>\n",
       "      <th>Basavanagudi</th>\n",
       "      <td>4.8</td>\n",
       "    </tr>\n",
       "  </tbody>\n",
       "</table>\n",
       "</div>"
      ],
      "text/plain": [
       "                   rate\n",
       "location               \n",
       "BTM                 4.9\n",
       "Banashankari        4.7\n",
       "Banaswadi           4.4\n",
       "Bannerghatta Road   4.6\n",
       "Basavanagudi        4.8"
      ]
     },
     "execution_count": 42,
     "metadata": {},
     "output_type": "execute_result"
    }
   ],
   "source": [
    "top5"
   ]
  },
  {
   "cell_type": "code",
   "execution_count": 53,
   "id": "72ea7d3e",
   "metadata": {},
   "outputs": [
    {
     "data": {
      "image/png": "[encoded data removed]",
      "text/plain": [
       "<Figure size 640x480 with 1 Axes>"
      ]
     },
     "metadata": {},
     "output_type": "display_data"
    }
   ],
   "source": [
    "top5.plot(kind=\"bar\")\n",
    "plt.xlabel(\"location\")\n",
    "plt.ylabel(\"Rating\")\n",
    "plt.title(\"Top 5 Location\")\n",
    "plt.show()"
   ]
  },
  {
   "cell_type": "code",
   "execution_count": 54,
   "id": "8f19ceb7",
   "metadata": {},
   "outputs": [
    {
     "data": {
      "text/plain": [
       "array([4.1, 3.8, 3.7, 3.6, 4.6, 4. , 4.2, 3.9, 3.1, 3. , 3.2, 3.3, 2.8,\n",
       "       4.4, 4.3, 2.9, 3.5, 2.6, 3.4, 4.5, 2.5, 2.7, 4.7, 2.4, 2.2, 2.3,\n",
       "       4.8, 4.9, 2.1, 2. , 1.8])"
      ]
     },
     "execution_count": 54,
     "metadata": {},
     "output_type": "execute_result"
    }
   ],
   "source": [
    "new_df['rate'].unique()"
   ]
  },
  {
   "cell_type": "code",
   "execution_count": 44,
   "id": "bacba356",
   "metadata": {},
   "outputs": [
    {
     "data": {
      "text/plain": [
       "3.700448817952718"
      ]
     },
     "execution_count": 44,
     "metadata": {},
     "output_type": "execute_result"
    }
   ],
   "source": [
    "new_df['rate'].mean()"
   ]
  },
  {
   "cell_type": "code",
   "execution_count": 45,
   "id": "89948651",
   "metadata": {},
   "outputs": [],
   "source": [
    "new_df['rate'] = new_df['rate'].fillna(new_df['rate'].mean())"
   ]
  },
  {
   "cell_type": "code",
   "execution_count": 46,
   "id": "d5cef1cf",
   "metadata": {},
   "outputs": [
    {
     "data": {
      "text/plain": [
       "array([4.1       , 3.8       , 3.7       , 3.6       , 4.6       ,\n",
       "       4.        , 4.2       , 3.9       , 3.1       , 3.        ,\n",
       "       3.2       , 3.3       , 2.8       , 4.4       , 4.3       ,\n",
       "       3.70044882, 2.9       , 3.5       , 2.6       , 3.4       ,\n",
       "       4.5       , 2.5       , 2.7       , 4.7       , 2.4       ,\n",
       "       2.2       , 2.3       , 4.8       , 4.9       , 2.1       ,\n",
       "       2.        , 1.8       ])"
      ]
     },
     "execution_count": 46,
     "metadata": {},
     "output_type": "execute_result"
    }
   ],
   "source": [
    "new_df['rate'].unique()"
   ]
  },
  {
   "cell_type": "code",
   "execution_count": 47,
   "id": "1fe90759",
   "metadata": {},
   "outputs": [],
   "source": [
    "round_rate = lambda x: round(x,2)"
   ]
  },
  {
   "cell_type": "code",
   "execution_count": 48,
   "id": "28ee0c5f",
   "metadata": {},
   "outputs": [],
   "source": [
    "new_df['rate'] = new_df['rate'].apply(round_rate)"
   ]
  },
  {
   "cell_type": "code",
   "execution_count": 49,
   "id": "8a91632f",
   "metadata": {},
   "outputs": [
    {
     "data": {
      "text/plain": [
       "array([4.1, 3.8, 3.7, 3.6, 4.6, 4. , 4.2, 3.9, 3.1, 3. , 3.2, 3.3, 2.8,\n",
       "       4.4, 4.3, 2.9, 3.5, 2.6, 3.4, 4.5, 2.5, 2.7, 4.7, 2.4, 2.2, 2.3,\n",
       "       4.8, 4.9, 2.1, 2. , 1.8])"
      ]
     },
     "execution_count": 49,
     "metadata": {},
     "output_type": "execute_result"
    }
   ],
   "source": [
    "new_df['rate'].unique()"
   ]
  },
  {
   "cell_type": "markdown",
   "id": "66257042",
   "metadata": {},
   "source": [
    "**Which are the Top10 resturant with highest voting**"
   ]
  },
  {
   "cell_type": "code",
   "execution_count": 50,
   "id": "7d59c611",
   "metadata": {},
   "outputs": [
    {
     "data": {
      "text/plain": [
       "name\n",
       "Cafe Coffee Day                                       96\n",
       "Onesta                                                85\n",
       "Just Bake                                             73\n",
       "Empire Restaurant                                     71\n",
       "Five Star Chicken                                     70\n",
       "                                                      ..\n",
       "Bangalore Kabab Palace                                 1\n",
       "Kolapasi Take away                                     1\n",
       "Arabian Delight                                        1\n",
       "Biryani treat                                          1\n",
       "Plunge  Sheraton Grand Bengaluru Whitefield Hotel      1\n",
       "Name: count, Length: 8741, dtype: int64"
      ]
     },
     "execution_count": 50,
     "metadata": {},
     "output_type": "execute_result"
    }
   ],
   "source": [
    "new_df['name'].value_counts()"
   ]
  },
  {
   "cell_type": "code",
   "execution_count": 52,
   "id": "ec8d9ef9",
   "metadata": {},
   "outputs": [],
   "source": [
    "top_votes = new_df.groupby(\"name\")[[\"votes\"]].sum().sort_values(by=\"votes\",ascending=False).head(10)"
   ]
  },
  {
   "cell_type": "code",
   "execution_count": 56,
   "id": "4c412a22",
   "metadata": {},
   "outputs": [
    {
     "data": {
      "text/html": [
       "<div>\n",
       "<style scoped>\n",
       "    .dataframe tbody tr th:only-of-type {\n",
       "        vertical-align: middle;\n",
       "    }\n",
       "\n",
       "    .dataframe tbody tr th {\n",
       "        vertical-align: top;\n",
       "    }\n",
       "\n",
       "    .dataframe thead th {\n",
       "        text-align: right;\n",
       "    }\n",
       "</style>\n",
       "<table border=\"1\" class=\"dataframe\">\n",
       "  <thead>\n",
       "    <tr style=\"text-align: right;\">\n",
       "      <th></th>\n",
       "      <th>votes</th>\n",
       "    </tr>\n",
       "    <tr>\n",
       "      <th>name</th>\n",
       "      <th></th>\n",
       "    </tr>\n",
       "  </thead>\n",
       "  <tbody>\n",
       "    <tr>\n",
       "      <th>Onesta</th>\n",
       "      <td>347520</td>\n",
       "    </tr>\n",
       "    <tr>\n",
       "      <th>Truffles</th>\n",
       "      <td>301059</td>\n",
       "    </tr>\n",
       "    <tr>\n",
       "      <th>Empire Restaurant</th>\n",
       "      <td>229808</td>\n",
       "    </tr>\n",
       "    <tr>\n",
       "      <th>Hammered</th>\n",
       "      <td>180602</td>\n",
       "    </tr>\n",
       "    <tr>\n",
       "      <th>The Black Pearl</th>\n",
       "      <td>172122</td>\n",
       "    </tr>\n",
       "    <tr>\n",
       "      <th>Meghana Foods</th>\n",
       "      <td>129557</td>\n",
       "    </tr>\n",
       "    <tr>\n",
       "      <th>Barbeque Nation</th>\n",
       "      <td>108425</td>\n",
       "    </tr>\n",
       "    <tr>\n",
       "      <th>Smallys Resto Cafe</th>\n",
       "      <td>102877</td>\n",
       "    </tr>\n",
       "    <tr>\n",
       "      <th>Byg Brewski Brewing Company</th>\n",
       "      <td>99531</td>\n",
       "    </tr>\n",
       "    <tr>\n",
       "      <th>Gillys Restobar</th>\n",
       "      <td>98808</td>\n",
       "    </tr>\n",
       "  </tbody>\n",
       "</table>\n",
       "</div>"
      ],
      "text/plain": [
       "                              votes\n",
       "name                               \n",
       "Onesta                       347520\n",
       "Truffles                     301059\n",
       "Empire Restaurant            229808\n",
       "Hammered                     180602\n",
       "The Black Pearl              172122\n",
       "Meghana Foods                129557\n",
       "Barbeque Nation              108425\n",
       "Smallys Resto Cafe           102877\n",
       "Byg Brewski Brewing Company   99531\n",
       "Gillys Restobar               98808"
      ]
     },
     "execution_count": 56,
     "metadata": {},
     "output_type": "execute_result"
    }
   ],
   "source": [
    "top_votes"
   ]
  },
  {
   "cell_type": "code",
   "execution_count": 55,
   "id": "7291fcdd",
   "metadata": {},
   "outputs": [
    {
     "data": {
      "image/png": "[encoded data removed]",
      "text/plain": [
       "<Figure size 640x480 with 1 Axes>"
      ]
     },
     "metadata": {},
     "output_type": "display_data"
    }
   ],
   "source": [
    "top_votes.plot(kind=\"bar\")\n",
    "plt.xlabel(\"Resturant\")\n",
    "plt.ylabel(\"votes\")\n",
    "plt.title(\"Top 5 Resturant\")\n",
    "plt.show()"
   ]
  },
  {
   "cell_type": "markdown",
   "id": "93c8f5a7",
   "metadata": {},
   "source": [
    "**Onesta is the Highest vote resturant in the bengalore location**"
   ]
  },
  {
   "cell_type": "markdown",
   "id": "423cfd5e",
   "metadata": {},
   "source": [
    "**which are the top 10 resturant with highest cost and affordable cost**"
   ]
  },
  {
   "cell_type": "code",
   "execution_count": 58,
   "id": "ab45c5d8",
   "metadata": {},
   "outputs": [
    {
     "data": {
      "text/plain": [
       "Index(['name', 'online_order', 'book_table', 'rate', 'votes', 'location',\n",
       "       'rest_type', 'dish_liked', 'cuisines', 'approx_cost(for two people)',\n",
       "       'listed_in(type)'],\n",
       "      dtype='object')"
      ]
     },
     "execution_count": 58,
     "metadata": {},
     "output_type": "execute_result"
    }
   ],
   "source": [
    "new_df.columns"
   ]
  },
  {
   "cell_type": "code",
   "execution_count": 66,
   "id": "b6b5f27e",
   "metadata": {},
   "outputs": [
    {
     "data": {
      "text/html": [
       "<div>\n",
       "<style scoped>\n",
       "    .dataframe tbody tr th:only-of-type {\n",
       "        vertical-align: middle;\n",
       "    }\n",
       "\n",
       "    .dataframe tbody tr th {\n",
       "        vertical-align: top;\n",
       "    }\n",
       "\n",
       "    .dataframe thead th {\n",
       "        text-align: right;\n",
       "    }\n",
       "</style>\n",
       "<table border=\"1\" class=\"dataframe\">\n",
       "  <thead>\n",
       "    <tr style=\"text-align: right;\">\n",
       "      <th></th>\n",
       "      <th>approx_cost(for two people)</th>\n",
       "    </tr>\n",
       "    <tr>\n",
       "      <th>name</th>\n",
       "      <th></th>\n",
       "    </tr>\n",
       "  </thead>\n",
       "  <tbody>\n",
       "    <tr>\n",
       "      <th>Cafe Coffee Day</th>\n",
       "      <td>81100.0</td>\n",
       "    </tr>\n",
       "    <tr>\n",
       "      <th>Mainland China</th>\n",
       "      <td>74100.0</td>\n",
       "    </tr>\n",
       "    <tr>\n",
       "      <th>Barbeque Nation</th>\n",
       "      <td>65600.0</td>\n",
       "    </tr>\n",
       "    <tr>\n",
       "      <th>Toscano</th>\n",
       "      <td>60700.0</td>\n",
       "    </tr>\n",
       "    <tr>\n",
       "      <th>Hammered</th>\n",
       "      <td>59800.0</td>\n",
       "    </tr>\n",
       "    <tr>\n",
       "      <th>Banjara Melting Pot</th>\n",
       "      <td>56100.0</td>\n",
       "    </tr>\n",
       "    <tr>\n",
       "      <th>Sherlocks Pub</th>\n",
       "      <td>54100.0</td>\n",
       "    </tr>\n",
       "    <tr>\n",
       "      <th>Smoor</th>\n",
       "      <td>51100.0</td>\n",
       "    </tr>\n",
       "    <tr>\n",
       "      <th>Onesta</th>\n",
       "      <td>51000.0</td>\n",
       "    </tr>\n",
       "    <tr>\n",
       "      <th>Empire Restaurant</th>\n",
       "      <td>48650.0</td>\n",
       "    </tr>\n",
       "  </tbody>\n",
       "</table>\n",
       "</div>"
      ],
      "text/plain": [
       "                     approx_cost(for two people)\n",
       "name                                            \n",
       "Cafe Coffee Day                          81100.0\n",
       "Mainland China                           74100.0\n",
       "Barbeque Nation                          65600.0\n",
       "Toscano                                  60700.0\n",
       "Hammered                                 59800.0\n",
       "Banjara Melting Pot                      56100.0\n",
       "Sherlocks Pub                            54100.0\n",
       "Smoor                                    51100.0\n",
       "Onesta                                   51000.0\n",
       "Empire Restaurant                        48650.0"
      ]
     },
     "execution_count": 66,
     "metadata": {},
     "output_type": "execute_result"
    }
   ],
   "source": [
    "new_df.groupby(\"name\")[[\"approx_cost(for two people)\"]].sum().sort_values(by=\"approx_cost(for two people)\",ascending=False).head(10)"
   ]
  },
  {
   "cell_type": "markdown",
   "id": "9dd8d37c",
   "metadata": {},
   "source": [
    "**Top 10 highest rated cafes**"
   ]
  },
  {
   "cell_type": "code",
   "execution_count": 73,
   "id": "e5d584ad",
   "metadata": {},
   "outputs": [
    {
     "data": {
      "text/plain": [
       "array(['Casual Dining', 'Cafe, Casual Dining', 'Quick Bites',\n",
       "       'Casual Dining, Cafe', 'Cafe', 'Quick Bites, Cafe',\n",
       "       'Cafe, Quick Bites', 'Delivery', 'Mess', 'Dessert Parlor',\n",
       "       'Bakery, Dessert Parlor', 'Pub', 'Bakery', 'Takeaway, Delivery',\n",
       "       'Fine Dining', 'Beverage Shop', 'Sweet Shop', 'Bar',\n",
       "       'Beverage Shop, Quick Bites', 'Confectionery',\n",
       "       'Quick Bites, Beverage Shop', 'Dessert Parlor, Sweet Shop',\n",
       "       'Bakery, Quick Bites', 'Sweet Shop, Quick Bites', 'Kiosk',\n",
       "       'Food Truck', 'Quick Bites, Dessert Parlor',\n",
       "       'Beverage Shop, Dessert Parlor', 'Takeaway', 'Pub, Casual Dining',\n",
       "       'Casual Dining, Bar', 'Dessert Parlor, Beverage Shop',\n",
       "       'Quick Bites, Bakery', 'Dessert Parlor, Quick Bites',\n",
       "       'Microbrewery, Casual Dining', 'Lounge', 'Bar, Casual Dining',\n",
       "       'Food Court', 'Cafe, Bakery', nan, 'Dhaba',\n",
       "       'Quick Bites, Sweet Shop', 'Microbrewery',\n",
       "       'Food Court, Quick Bites', 'Pub, Bar', 'Casual Dining, Pub',\n",
       "       'Lounge, Bar', 'Food Court, Dessert Parlor',\n",
       "       'Casual Dining, Sweet Shop', 'Food Court, Casual Dining',\n",
       "       'Casual Dining, Microbrewery', 'Sweet Shop, Dessert Parlor',\n",
       "       'Bakery, Beverage Shop', 'Lounge, Casual Dining',\n",
       "       'Cafe, Food Court', 'Beverage Shop, Cafe', 'Cafe, Dessert Parlor',\n",
       "       'Dessert Parlor, Cafe', 'Dessert Parlor, Bakery',\n",
       "       'Microbrewery, Pub', 'Bakery, Food Court', 'Club',\n",
       "       'Quick Bites, Food Court', 'Bakery, Cafe', 'Bar, Cafe',\n",
       "       'Pub, Cafe', 'Casual Dining, Irani Cafee', 'Fine Dining, Lounge',\n",
       "       'Bar, Quick Bites', 'Bakery, Kiosk', 'Pub, Microbrewery',\n",
       "       'Microbrewery, Lounge', 'Fine Dining, Microbrewery',\n",
       "       'Fine Dining, Bar', 'Mess, Quick Bites', 'Dessert Parlor, Kiosk',\n",
       "       'Bhojanalya', 'Casual Dining, Quick Bites', 'Pop Up', 'Cafe, Bar',\n",
       "       'Casual Dining, Lounge', 'Bakery, Sweet Shop', 'Microbrewery, Bar',\n",
       "       'Cafe, Lounge', 'Bar, Pub', 'Lounge, Cafe', 'Club, Casual Dining',\n",
       "       'Quick Bites, Mess', 'Quick Bites, Meat Shop',\n",
       "       'Quick Bites, Kiosk', 'Lounge, Microbrewery',\n",
       "       'Food Court, Beverage Shop', 'Dessert Parlor, Food Court',\n",
       "       'Bar, Lounge'], dtype=object)"
      ]
     },
     "execution_count": 73,
     "metadata": {},
     "output_type": "execute_result"
    }
   ],
   "source": [
    "new_df['rest_type'].unique()"
   ]
  },
  {
   "cell_type": "code",
   "execution_count": 74,
   "id": "96131a4e",
   "metadata": {},
   "outputs": [],
   "source": [
    "cafe_data = new_df[new_df['rest_type'] == \"Cafe\"]"
   ]
  },
  {
   "cell_type": "code",
   "execution_count": 75,
   "id": "1f8111a0",
   "metadata": {},
   "outputs": [
    {
     "data": {
      "text/html": [
       "<div>\n",
       "<style scoped>\n",
       "    .dataframe tbody tr th:only-of-type {\n",
       "        vertical-align: middle;\n",
       "    }\n",
       "\n",
       "    .dataframe tbody tr th {\n",
       "        vertical-align: top;\n",
       "    }\n",
       "\n",
       "    .dataframe thead th {\n",
       "        text-align: right;\n",
       "    }\n",
       "</style>\n",
       "<table border=\"1\" class=\"dataframe\">\n",
       "  <thead>\n",
       "    <tr style=\"text-align: right;\">\n",
       "      <th></th>\n",
       "      <th>votes</th>\n",
       "    </tr>\n",
       "    <tr>\n",
       "      <th>name</th>\n",
       "      <th></th>\n",
       "    </tr>\n",
       "  </thead>\n",
       "  <tbody>\n",
       "    <tr>\n",
       "      <th>The Hole in the Wall Cafe</th>\n",
       "      <td>7137</td>\n",
       "    </tr>\n",
       "    <tr>\n",
       "      <th>Dyu Art Cafe</th>\n",
       "      <td>3854</td>\n",
       "    </tr>\n",
       "    <tr>\n",
       "      <th>Truffles</th>\n",
       "      <td>3614</td>\n",
       "    </tr>\n",
       "    <tr>\n",
       "      <th>Smallys Resto Cafe</th>\n",
       "      <td>3581</td>\n",
       "    </tr>\n",
       "    <tr>\n",
       "      <th>Cafe Thulp</th>\n",
       "      <td>3007</td>\n",
       "    </tr>\n",
       "    <tr>\n",
       "      <th>A Hole Lotta Love Cafe</th>\n",
       "      <td>2874</td>\n",
       "    </tr>\n",
       "    <tr>\n",
       "      <th>Cafe Azzure</th>\n",
       "      <td>2747</td>\n",
       "    </tr>\n",
       "    <tr>\n",
       "      <th>Om Made Cafe</th>\n",
       "      <td>2738</td>\n",
       "    </tr>\n",
       "    <tr>\n",
       "      <th>Mr Beans  Home Cafe</th>\n",
       "      <td>2717</td>\n",
       "    </tr>\n",
       "    <tr>\n",
       "      <th>Matteo Coffea</th>\n",
       "      <td>2662</td>\n",
       "    </tr>\n",
       "  </tbody>\n",
       "</table>\n",
       "</div>"
      ],
      "text/plain": [
       "                           votes\n",
       "name                            \n",
       "The Hole in the Wall Cafe   7137\n",
       "Dyu Art Cafe                3854\n",
       "Truffles                    3614\n",
       "Smallys Resto Cafe          3581\n",
       "Cafe Thulp                  3007\n",
       "A Hole Lotta Love Cafe      2874\n",
       "Cafe Azzure                 2747\n",
       "Om Made Cafe                2738\n",
       "Mr Beans  Home Cafe         2717\n",
       "Matteo Coffea               2662"
      ]
     },
     "execution_count": 75,
     "metadata": {},
     "output_type": "execute_result"
    }
   ],
   "source": [
    "cafe_data.groupby('name').agg({'votes':'max'}).sort_values(by='votes',ascending=False)[:10]"
   ]
  },
  {
   "cell_type": "markdown",
   "id": "369ddb6b",
   "metadata": {},
   "source": [
    "**The Hole in the Wall Cafe\tis the highest rated cafe in Bengalore location**"
   ]
  },
  {
   "cell_type": "markdown",
   "id": "560ebee7",
   "metadata": {},
   "source": [
    "**Top 5 resturant for veg and non veg biryani**"
   ]
  },
  {
   "cell_type": "code",
   "execution_count": 76,
   "id": "922b7d14",
   "metadata": {},
   "outputs": [
    {
     "data": {
      "text/plain": [
       "dish_liked\n",
       "Biryani                                                                                              182\n",
       "Chicken Biryani                                                                                       73\n",
       "Friendly Staff                                                                                        69\n",
       "Waffles                                                                                               68\n",
       "Paratha                                                                                               57\n",
       "                                                                                                    ... \n",
       "Butter Chicken, Shawarma Roll, Chicken Shawarama, Chicken Grill, Rolls, Al Faham Chicken, Biryani      1\n",
       "Filter Coffee, Sandwich, Bonda, Vada, Masala Dosa, Salad, Aloo Curry                                   1\n",
       "Burgers, Fries, Jumbo Royale Burger, Salads, Peri Peri Chicken Salad, Potato Wedges, Rolls             1\n",
       "Chaat, Pav Bhaji, Raj Kachori, Buttermilk, Ajwaini Paratha, Tawa Pulav, Sev Puri                       1\n",
       "Paratha, Dal Makhani, Lassi, Naan, Veg Thali, Chole, Kulcha                                            1\n",
       "Name: count, Length: 5271, dtype: int64"
      ]
     },
     "execution_count": 76,
     "metadata": {},
     "output_type": "execute_result"
    }
   ],
   "source": [
    "new_df['dish_liked'].value_counts()"
   ]
  },
  {
   "cell_type": "markdown",
   "id": "852715ff",
   "metadata": {},
   "source": [
    "**For veg biryani**"
   ]
  },
  {
   "cell_type": "code",
   "execution_count": 77,
   "id": "53506d13",
   "metadata": {},
   "outputs": [],
   "source": [
    "veg_biryani_rest = new_df[new_df['dish_liked'].isin(['Dum Biryani','Biryani'])]"
   ]
  },
  {
   "cell_type": "code",
   "execution_count": 78,
   "id": "8956b14a",
   "metadata": {},
   "outputs": [
    {
     "data": {
      "text/html": [
       "<div>\n",
       "<style scoped>\n",
       "    .dataframe tbody tr th:only-of-type {\n",
       "        vertical-align: middle;\n",
       "    }\n",
       "\n",
       "    .dataframe tbody tr th {\n",
       "        vertical-align: top;\n",
       "    }\n",
       "\n",
       "    .dataframe thead th {\n",
       "        text-align: right;\n",
       "    }\n",
       "</style>\n",
       "<table border=\"1\" class=\"dataframe\">\n",
       "  <thead>\n",
       "    <tr style=\"text-align: right;\">\n",
       "      <th></th>\n",
       "      <th>rate</th>\n",
       "    </tr>\n",
       "    <tr>\n",
       "      <th>name</th>\n",
       "      <th></th>\n",
       "    </tr>\n",
       "  </thead>\n",
       "  <tbody>\n",
       "    <tr>\n",
       "      <th>Bhairaveshwara Military Hotel</th>\n",
       "      <td>4.2</td>\n",
       "    </tr>\n",
       "    <tr>\n",
       "      <th>eatfit</th>\n",
       "      <td>4.1</td>\n",
       "    </tr>\n",
       "    <tr>\n",
       "      <th>Andhra Kitchen</th>\n",
       "      <td>4.0</td>\n",
       "    </tr>\n",
       "    <tr>\n",
       "      <th>Andhra Ruchulu</th>\n",
       "      <td>4.0</td>\n",
       "    </tr>\n",
       "    <tr>\n",
       "      <th>Brundhavana Food Point</th>\n",
       "      <td>4.0</td>\n",
       "    </tr>\n",
       "  </tbody>\n",
       "</table>\n",
       "</div>"
      ],
      "text/plain": [
       "                               rate\n",
       "name                               \n",
       "Bhairaveshwara Military Hotel   4.2\n",
       "eatfit                          4.1\n",
       "Andhra Kitchen                  4.0\n",
       "Andhra Ruchulu                  4.0\n",
       "Brundhavana Food Point          4.0"
      ]
     },
     "execution_count": 78,
     "metadata": {},
     "output_type": "execute_result"
    }
   ],
   "source": [
    "veg_biryani_rest.groupby('name').agg({'rate':'max'}).sort_values(by='rate',ascending=False)[:5]"
   ]
  },
  {
   "cell_type": "markdown",
   "id": "306e4bec",
   "metadata": {},
   "source": [
    "**Bhairaveshwara Military Hotel\tis the highest rate resturant for veg biryani following by others**"
   ]
  },
  {
   "cell_type": "markdown",
   "id": "e72af8bc",
   "metadata": {},
   "source": [
    "**For Non-veg biryani**"
   ]
  },
  {
   "cell_type": "code",
   "execution_count": 79,
   "id": "98510468",
   "metadata": {},
   "outputs": [],
   "source": [
    "non_veg_biryani_rest = new_df[new_df['dish_liked'].isin(['Chicken Biryani','Mutton Biryani'])]"
   ]
  },
  {
   "cell_type": "code",
   "execution_count": 80,
   "id": "c14ad6a1",
   "metadata": {},
   "outputs": [
    {
     "data": {
      "text/html": [
       "<div>\n",
       "<style scoped>\n",
       "    .dataframe tbody tr th:only-of-type {\n",
       "        vertical-align: middle;\n",
       "    }\n",
       "\n",
       "    .dataframe tbody tr th {\n",
       "        vertical-align: top;\n",
       "    }\n",
       "\n",
       "    .dataframe thead th {\n",
       "        text-align: right;\n",
       "    }\n",
       "</style>\n",
       "<table border=\"1\" class=\"dataframe\">\n",
       "  <thead>\n",
       "    <tr style=\"text-align: right;\">\n",
       "      <th></th>\n",
       "      <th>rate</th>\n",
       "    </tr>\n",
       "    <tr>\n",
       "      <th>name</th>\n",
       "      <th></th>\n",
       "    </tr>\n",
       "  </thead>\n",
       "  <tbody>\n",
       "    <tr>\n",
       "      <th>Karahi Kitchen</th>\n",
       "      <td>4.1</td>\n",
       "    </tr>\n",
       "    <tr>\n",
       "      <th>Asaivam Restaurant</th>\n",
       "      <td>4.0</td>\n",
       "    </tr>\n",
       "    <tr>\n",
       "      <th>Anjappaar</th>\n",
       "      <td>3.9</td>\n",
       "    </tr>\n",
       "    <tr>\n",
       "      <th>Meghana Biriyanis</th>\n",
       "      <td>3.9</td>\n",
       "    </tr>\n",
       "    <tr>\n",
       "      <th>Kannur Restaurant</th>\n",
       "      <td>3.8</td>\n",
       "    </tr>\n",
       "  </tbody>\n",
       "</table>\n",
       "</div>"
      ],
      "text/plain": [
       "                    rate\n",
       "name                    \n",
       "Karahi Kitchen       4.1\n",
       "Asaivam Restaurant   4.0\n",
       "Anjappaar            3.9\n",
       "Meghana Biriyanis    3.9\n",
       "Kannur Restaurant    3.8"
      ]
     },
     "execution_count": 80,
     "metadata": {},
     "output_type": "execute_result"
    }
   ],
   "source": [
    "non_veg_biryani_rest.groupby('name').agg({'rate':'max'}).sort_values(by='rate',ascending=False)[:5]"
   ]
  },
  {
   "cell_type": "markdown",
   "id": "b5fae4c6",
   "metadata": {},
   "source": [
    "**Karahi Kitchen is the highest rate resturant for non-veg biryani following by others**"
   ]
  },
  {
   "cell_type": "code",
   "execution_count": 81,
   "id": "e6375dce",
   "metadata": {},
   "outputs": [
    {
     "data": {
      "text/html": [
       "<div>\n",
       "<style scoped>\n",
       "    .dataframe tbody tr th:only-of-type {\n",
       "        vertical-align: middle;\n",
       "    }\n",
       "\n",
       "    .dataframe tbody tr th {\n",
       "        vertical-align: top;\n",
       "    }\n",
       "\n",
       "    .dataframe thead th {\n",
       "        text-align: right;\n",
       "    }\n",
       "</style>\n",
       "<table border=\"1\" class=\"dataframe\">\n",
       "  <thead>\n",
       "    <tr style=\"text-align: right;\">\n",
       "      <th></th>\n",
       "      <th>name</th>\n",
       "      <th>online_order</th>\n",
       "      <th>book_table</th>\n",
       "      <th>rate</th>\n",
       "      <th>votes</th>\n",
       "      <th>location</th>\n",
       "      <th>rest_type</th>\n",
       "      <th>dish_liked</th>\n",
       "      <th>cuisines</th>\n",
       "      <th>approx_cost(for two people)</th>\n",
       "      <th>listed_in(type)</th>\n",
       "    </tr>\n",
       "  </thead>\n",
       "  <tbody>\n",
       "    <tr>\n",
       "      <th>0</th>\n",
       "      <td>Jalsa</td>\n",
       "      <td>Yes</td>\n",
       "      <td>Yes</td>\n",
       "      <td>4.1</td>\n",
       "      <td>775</td>\n",
       "      <td>Banashankari</td>\n",
       "      <td>Casual Dining</td>\n",
       "      <td>Pasta, Lunch Buffet, Masala Papad, Paneer Laja...</td>\n",
       "      <td>North Indian, Mughlai, Chinese</td>\n",
       "      <td>800.0</td>\n",
       "      <td>Buffet</td>\n",
       "    </tr>\n",
       "    <tr>\n",
       "      <th>1</th>\n",
       "      <td>Spice Elephant</td>\n",
       "      <td>Yes</td>\n",
       "      <td>No</td>\n",
       "      <td>4.1</td>\n",
       "      <td>787</td>\n",
       "      <td>Banashankari</td>\n",
       "      <td>Casual Dining</td>\n",
       "      <td>Momos, Lunch Buffet, Chocolate Nirvana, Thai G...</td>\n",
       "      <td>Chinese, North Indian, Thai</td>\n",
       "      <td>800.0</td>\n",
       "      <td>Buffet</td>\n",
       "    </tr>\n",
       "    <tr>\n",
       "      <th>2</th>\n",
       "      <td>San Churro Cafe</td>\n",
       "      <td>Yes</td>\n",
       "      <td>No</td>\n",
       "      <td>3.8</td>\n",
       "      <td>918</td>\n",
       "      <td>Banashankari</td>\n",
       "      <td>Cafe, Casual Dining</td>\n",
       "      <td>Churros, Cannelloni, Minestrone Soup, Hot Choc...</td>\n",
       "      <td>Cafe, Mexican, Italian</td>\n",
       "      <td>800.0</td>\n",
       "      <td>Buffet</td>\n",
       "    </tr>\n",
       "    <tr>\n",
       "      <th>3</th>\n",
       "      <td>Addhuri Udupi Bhojana</td>\n",
       "      <td>No</td>\n",
       "      <td>No</td>\n",
       "      <td>3.7</td>\n",
       "      <td>88</td>\n",
       "      <td>Banashankari</td>\n",
       "      <td>Quick Bites</td>\n",
       "      <td>Masala Dosa</td>\n",
       "      <td>South Indian, North Indian</td>\n",
       "      <td>300.0</td>\n",
       "      <td>Buffet</td>\n",
       "    </tr>\n",
       "    <tr>\n",
       "      <th>4</th>\n",
       "      <td>Grand Village</td>\n",
       "      <td>No</td>\n",
       "      <td>No</td>\n",
       "      <td>3.8</td>\n",
       "      <td>166</td>\n",
       "      <td>Basavanagudi</td>\n",
       "      <td>Casual Dining</td>\n",
       "      <td>Panipuri, Gol Gappe</td>\n",
       "      <td>North Indian, Rajasthani</td>\n",
       "      <td>600.0</td>\n",
       "      <td>Buffet</td>\n",
       "    </tr>\n",
       "  </tbody>\n",
       "</table>\n",
       "</div>"
      ],
      "text/plain": [
       "                    name online_order book_table  rate  votes      location  \\\n",
       "0                  Jalsa          Yes        Yes   4.1    775  Banashankari   \n",
       "1         Spice Elephant          Yes         No   4.1    787  Banashankari   \n",
       "2        San Churro Cafe          Yes         No   3.8    918  Banashankari   \n",
       "3  Addhuri Udupi Bhojana           No         No   3.7     88  Banashankari   \n",
       "4          Grand Village           No         No   3.8    166  Basavanagudi   \n",
       "\n",
       "             rest_type                                         dish_liked  \\\n",
       "0        Casual Dining  Pasta, Lunch Buffet, Masala Papad, Paneer Laja...   \n",
       "1        Casual Dining  Momos, Lunch Buffet, Chocolate Nirvana, Thai G...   \n",
       "2  Cafe, Casual Dining  Churros, Cannelloni, Minestrone Soup, Hot Choc...   \n",
       "3          Quick Bites                                        Masala Dosa   \n",
       "4        Casual Dining                                Panipuri, Gol Gappe   \n",
       "\n",
       "                         cuisines  approx_cost(for two people) listed_in(type)  \n",
       "0  North Indian, Mughlai, Chinese                        800.0          Buffet  \n",
       "1     Chinese, North Indian, Thai                        800.0          Buffet  \n",
       "2          Cafe, Mexican, Italian                        800.0          Buffet  \n",
       "3      South Indian, North Indian                        300.0          Buffet  \n",
       "4        North Indian, Rajasthani                        600.0          Buffet  "
      ]
     },
     "execution_count": 81,
     "metadata": {},
     "output_type": "execute_result"
    }
   ],
   "source": [
    "new_df.head()"
   ]
  },
  {
   "cell_type": "markdown",
   "id": "16cba15f",
   "metadata": {},
   "source": [
    "**Analysing the cost for two and rating of the resturant**\n"
   ]
  },
  {
   "cell_type": "code",
   "execution_count": 87,
   "id": "ce029604",
   "metadata": {},
   "outputs": [
    {
     "data": {
      "image/png": "[encoded data removed]",
      "text/plain": [
       "<Figure size 640x480 with 1 Axes>"
      ]
     },
     "metadata": {},
     "output_type": "display_data"
    }
   ],
   "source": [
    "sns.scatterplot(x=\"approx_cost(for two people)\",y = \"rate\",data = new_df)\n",
    "plt.show()"
   ]
  },
  {
   "cell_type": "code",
   "execution_count": null,
   "id": "626611f8",
   "metadata": {},
   "outputs": [],
   "source": []
  }
 ],
 "metadata": {
  "kernelspec": {
   "display_name": "Python 3 (ipykernel)",
   "language": "python",
   "name": "python3"
  },
  "language_info": {
   "codemirror_mode": {
    "name": "ipython",
    "version": 3
   },
   "file_extension": ".py",
   "mimetype": "text/x-python",
   "name": "python",
   "nbconvert_exporter": "python",
   "pygments_lexer": "ipython3",
   "version": "3.12.4"
  }
 },
 "nbformat": 4,
 "nbformat_minor": 5
}
